{
 "cells": [
  {
   "cell_type": "code",
   "execution_count": 33,
   "id": "fc897991",
   "metadata": {},
   "outputs": [
    {
     "name": "stdout",
     "output_type": "stream",
     "text": [
      "enter the number6\n",
      "( 1 , 5 )\n",
      "( 2 , 4 )\n"
     ]
    }
   ],
   "source": [
    "#Q1. Write a program to find all pairs of an integer array whose sum is equal to a given number?\n",
    "\n",
    "a=[1,2,3,4,5]\n",
    "n=len(a)\n",
    "number=int(input(\"enter the number\"))\n",
    "for j in range(0,n):\n",
    "    for k in range(j+1,n):\n",
    "        if(a[j] + a[k] ==number):\n",
    "            print(\"(\",j+1,\",\",k+1,\")\")"
   ]
  },
  {
   "cell_type": "code",
   "execution_count": null,
   "id": "882272bd",
   "metadata": {},
   "outputs": [],
   "source": []
  },
  {
   "cell_type": "code",
   "execution_count": null,
   "id": "7f549d9d",
   "metadata": {},
   "outputs": [],
   "source": []
  },
  {
   "cell_type": "code",
   "execution_count": null,
   "id": "d0c50798",
   "metadata": {},
   "outputs": [],
   "source": []
  }
 ],
 "metadata": {
  "kernelspec": {
   "display_name": "Python 3 (ipykernel)",
   "language": "python",
   "name": "python3"
  },
  "language_info": {
   "codemirror_mode": {
    "name": "ipython",
    "version": 3
   },
   "file_extension": ".py",
   "mimetype": "text/x-python",
   "name": "python",
   "nbconvert_exporter": "python",
   "pygments_lexer": "ipython3",
   "version": "3.9.12"
  }
 },
 "nbformat": 4,
 "nbformat_minor": 5
}
